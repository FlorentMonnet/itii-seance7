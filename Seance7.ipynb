{
  "nbformat": 4,
  "nbformat_minor": 0,
  "metadata": {
    "kernelspec": {
      "display_name": "Python 3",
      "language": "python",
      "name": "python3"
    },
    "language_info": {
      "codemirror_mode": {
        "name": "ipython",
        "version": 3
      },
      "file_extension": ".py",
      "mimetype": "text/x-python",
      "name": "python",
      "nbconvert_exporter": "python",
      "pygments_lexer": "ipython3",
      "version": "3.7.6"
    },
    "colab": {
      "name": "Seance7.ipynb",
      "provenance": []
    }
  },
  "cells": [
    {
      "cell_type": "markdown",
      "metadata": {
        "id": "qBGK-zQSJieX"
      },
      "source": [
        "En utilisant numpy:"
      ]
    },
    {
      "cell_type": "markdown",
      "metadata": {
        "id": "IPV3vvS-JieX"
      },
      "source": [
        "Ex 1 :Addition\n",
        "Écrire un programme pour lire les éléments de deux matrices et ajoutez les deux matrices dans la troisième.\n",
        "\n",
        "La somme de deux matrices de taille (m,n), $(A_{ij}) et (B_{ij}) notée $A+B$  est à nouveau une matrice (C_{ij}) de taille (m,n), obtenue en additionnant les éléments correspondants: $c_{ij}=a_{ij}+b_{ij}$\n"
      ]
    },
    {
      "cell_type": "code",
      "metadata": {
        "colab": {
          "base_uri": "https://localhost:8080/"
        },
        "id": "fhzj7t9wJieY",
        "outputId": "4786a606-0179-4a20-d94f-559bdc63ee6e"
      },
      "source": [
        "import numpy as np\n",
        "def additionMatrice(A,B):\n",
        "  if np.shape(A)[0]==np.shape(B)[0] and np.shape(A)[1]==np.shape(B)[1]:\n",
        "    return A+B\n",
        "  else:\n",
        "    print(\"L'addtion n'est pas possible\")\n",
        "\n",
        "A=np.array([[1,2],[1,2]])\n",
        "B=np.array([[1,2],[1,3]])\n",
        "print(additionMatrice(A,B))"
      ],
      "execution_count": 50,
      "outputs": [
        {
          "output_type": "stream",
          "text": [
            "[[2 4]\n",
            " [2 5]]\n"
          ],
          "name": "stdout"
        }
      ]
    },
    {
      "cell_type": "markdown",
      "metadata": {
        "id": "OMNU8e4cJieY"
      },
      "source": [
        "Ex2 :Multiplication\n",
        "Écrire un programme pour lire les éléments de deux matrices, puis multipliez les deux matrices dans la troisième.\n",
        "\n",
        "Deux matrices ne peuvent être multipliées que si le nombre de colonnes de la première matrice est le même que le nombre de lignes de la seconde matrice.\n",
        "\n",
        "Si $ A=(a_{ij})$ est une matrice de taille (m,n), $ B=(b_{ij})$ et est une matrice de taille (n,p), alors leur produit, noté $AB=(c_{ij})$ est une matrice de taille (m,p) définie par :\n",
        "$$\\forall i,j : c_{ij}=\\sum_{k=i}^{n} a_{ik}*b_{kj}$$"
      ]
    },
    {
      "cell_type": "code",
      "metadata": {
        "colab": {
          "base_uri": "https://localhost:8080/"
        },
        "id": "vyh5rVr5JieY",
        "outputId": "5cae9863-f987-469d-94e2-7bedee6bad35"
      },
      "source": [
        "def multiplicationMatrice(A,B):\n",
        "  if np.shape(A)[1]==np.shape(B)[0]:\n",
        "    return A.dot(B)\n",
        "  else:\n",
        "    print(\"La multiplication n'est pas possible\")\n",
        "A=np.array([[1,2],[1,2]])\n",
        "B=np.array([[1,2],[1,3]])\n",
        "print(multiplicationMatrice(A,B))"
      ],
      "execution_count": 26,
      "outputs": [
        {
          "output_type": "stream",
          "text": [
            "[[3 8]\n",
            " [3 8]]\n"
          ],
          "name": "stdout"
        }
      ]
    },
    {
      "cell_type": "markdown",
      "metadata": {
        "id": "4r90ZGCrJieY"
      },
      "source": [
        "Ex 3: Matrice de Markov\n",
        "\n",
        "Une matrice de Markov est une matrice carrée dont chaque élément est un réel compris entre 0 et 1 et dont la somme des éléments de chaque ligne vaut 1. Cela correspond, en probabilité, à la matrice de transition d'une chaîne de Markov finie.\n",
        "\n",
        "Une matrice est dite bistochastique (ou doublement stochastique) si la somme des éléments de chaque ligne et de chaque colonne vaut 1.\n",
        "\n",
        "1. Ecrire une fonction eststochastique(P) qui permet de vérifier est ce que la matrice P est stochastique ou non\n",
        "2. Ecrire une fonction estbistochastique(P) qui permet de vérifier est ce que la matrice P est bistochastique ou non\n",
        "3. Ecrire une fonction vecteurstable(G, h) qui permet de vérifier est ce que h est un vecteur stable de G ou non\n",
        "\n"
      ]
    },
    {
      "cell_type": "code",
      "metadata": {
        "colab": {
          "base_uri": "https://localhost:8080/"
        },
        "id": "7TYUEAeVJieZ",
        "outputId": "8991710b-6ec0-442e-a2a0-09a81b4544e6"
      },
      "source": [
        "def eststochastique(P):\n",
        "  for i in range(np.shape(P)[0]):\n",
        "    if np.sum(P,axis=1)[i]!=1:\n",
        "      return False\n",
        "  return True\n",
        "\n",
        "def estbistochastique(P):\n",
        "  if eststochastique(P):\n",
        "    for i in range(np.shape(P)[1]):\n",
        "      if np.sum(P,axis=0)[i]!=1:\n",
        "        return False\n",
        "    return True\n",
        "  else:\n",
        "    return False\n",
        "\n",
        "A=np.array([[0.5,0.5],[0.5,0.5]])\n",
        "eststochastique(A)"
      ],
      "execution_count": 49,
      "outputs": [
        {
          "output_type": "execute_result",
          "data": {
            "text/plain": [
              "True"
            ]
          },
          "metadata": {
            "tags": []
          },
          "execution_count": 49
        }
      ]
    },
    {
      "cell_type": "markdown",
      "metadata": {
        "id": "rcHkYrN4JieZ"
      },
      "source": [
        "Ex 4: Transposer\n",
        "\n",
        "Programmer une fonction qui, étant donné une matrice à deux dimensions A, retourne lamatrice B dont la première colonne est la première ligne de A, la seconde la deuxième ligne de A, etc. B s’appelle la transposée de A."
      ]
    },
    {
      "cell_type": "code",
      "metadata": {
        "colab": {
          "base_uri": "https://localhost:8080/"
        },
        "id": "hYTX-mRCJieZ",
        "outputId": "d1450ce5-666b-4f5b-b70a-a0f963c0d755"
      },
      "source": [
        "def transposeMatrice(A):\n",
        "    return np.transpose(A)\n",
        "A=np.array([[1,2],[1,2]])\n",
        "print(transposeMatrice(A))"
      ],
      "execution_count": 51,
      "outputs": [
        {
          "output_type": "stream",
          "text": [
            "[[1 1]\n",
            " [2 2]]\n"
          ],
          "name": "stdout"
        }
      ]
    },
    {
      "cell_type": "markdown",
      "metadata": {
        "id": "bZPeSJDrJieZ"
      },
      "source": [
        "Ex 5: Permutations\n",
        "1. $M$ désignant une matrice quelconque d’entiers à $l_i$ lignes et $co$ colonnes, $n$ un entier quelconque, programmer une fonction qui retourne la matrice $Sortie$ qui empile verticalement les $co+1$ matrices obtenues en adjoignant à $M$ une colonne $A$ à $li$ lignes dont tousles éléments sont égaux à $n$, $A$ étant placée d’abord devant $M$, puis entre la première et deuxième colonne de $M^a$,etc, jusqu’à ce que $A$ devienne sa dernière colonne. La matriceobtenue  aura $co+1$ colonnes et $(n+1)$ $li$ lignes\n",
        "\n",
        "2. Écrire toutes les permutations de(1, ..., n)"
      ]
    },
    {
      "cell_type": "code",
      "metadata": {
        "colab": {
          "base_uri": "https://localhost:8080/"
        },
        "id": "00Psw9isSzV8",
        "outputId": "982ac0c5-09b3-49fb-be13-663cc7482d11"
      },
      "source": [
        "def permutation(M, n):\n",
        "  l = np.shape(M)[0]\n",
        "  c = np.shape(M)[1] + 1\n",
        "  S = np.zeros((l*c, c))\n",
        "  indexAll = 0\n",
        "  for indexMatrice in range(c):\n",
        "    for i in range(l):\n",
        "\n",
        "      realJ = 0\n",
        "      for j in range(c):\n",
        "        if j == indexMatrice:\n",
        "          S[indexAll][j] = n\n",
        "        else:\n",
        "          S[indexAll][j] = M[i][realJ]\n",
        "          realJ+=1\n",
        "\n",
        "      indexAll += 1\n",
        "  return S\n",
        "\n",
        "A = np.array([ [1, -1], [1, 2] ])\n",
        "permutation(A, 3)"
      ],
      "execution_count": 81,
      "outputs": [
        {
          "output_type": "execute_result",
          "data": {
            "text/plain": [
              "array([[ 3.,  1., -1.],\n",
              "       [ 3.,  1.,  2.],\n",
              "       [ 1.,  3., -1.],\n",
              "       [ 1.,  3.,  2.],\n",
              "       [ 1., -1.,  3.],\n",
              "       [ 1.,  2.,  3.]])"
            ]
          },
          "metadata": {
            "tags": []
          },
          "execution_count": 81
        }
      ]
    }
  ]
}